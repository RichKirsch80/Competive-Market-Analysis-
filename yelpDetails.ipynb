{
 "cells": [
  {
   "cell_type": "code",
   "execution_count": null,
   "id": "8d5f419d",
   "metadata": {},
   "outputs": [],
   "source": [
    "#Import Dependencies\n",
    "import json\n",
    "import requests\n",
    "from pprint import pprint\n",
    "#from config import api_key. not sure if config file should be uploaded\n",
    "import pandas as pd\n"
   ]
  },
  {
   "cell_type": "code",
   "execution_count": null,
   "id": "fd343d6e",
   "metadata": {},
   "outputs": [],
   "source": [
    "#Build a dataframe\n",
    "business_df = pd.DataFrame()\n",
    "business_df['name'] = ''"
   ]
  },
  {
   "cell_type": "code",
   "execution_count": null,
   "id": "268a7755",
   "metadata": {},
   "outputs": [],
   "source": [
    "# Build base URL and set variable for business id\n",
    "#Use sample business id to run it.\n",
    "# authorization headers code was from a youtube video\n",
    "bus_id = 'WavvLdfdP6g8aZTtbBQHTw'\n",
    "base_url = f'https://api.yelp.com/v3/businesses/{bus_id}'\n",
    "headers = {'Authorization': 'bearer %s' % api_key}\n",
    "\n",
    "#Run GET request\n",
    "response = requests.get(base_url, headers=headers).json()\n",
    "response"
   ]
  },
  {
   "cell_type": "code",
   "execution_count": null,
   "id": "7b893d38",
   "metadata": {},
   "outputs": [],
   "source": [
    "#Pull relevant info for columns. Set the index.\n",
    "business_df.loc[0,'name'] = response['name']\n",
    "business_df.head()"
   ]
  },
  {
   "cell_type": "code",
   "execution_count": null,
   "id": "dea9b4c9",
   "metadata": {},
   "outputs": [],
   "source": [
    "#\n",
    "bus_ids = [a,b,c,d,e]\n",
    "\n",
    "names = list()\n",
    "coordinates_lat = list()\n",
    "coordinates_long = list()\n",
    "indices = list()\n",
    "categories = list()\n",
    "review_count = list()\n",
    "rating = list()\n",
    "price = list()\n",
    "\n",
    "\n",
    "\n",
    "for idx,bus_id in enumerate(bus_ids):\n",
    "    url = f'https://api.yelp.com/v3/businesses/{bus_id}'\n",
    "    resp = requests.get(url,headers=headers)\n",
    "    indices.append(idx)\n",
    "    names.append(resp['name'])\n",
    "    coordinates_lat.append(resp['coordinates']['latitude'])\n",
    "    coordinates_long.append(resp['coordinates']['longitude'])\n",
    "    categories.append(rep['categories'][0]['alias'])\n",
    "    review_count.append(rep['review_count'])\n",
    "    rating.append(rep['rating'])\n",
    "    price.append(rep['price'])\n",
    "    \n",
    "\n",
    "    business_df = pd.DataFrame({\n",
    "    'index':indices,\n",
    "    'name':names,\n",
    "    'coordinates_lat': latitude,\n",
    "    'coordinates_long': longitude,\n",
    "    'categories':categories,\n",
    "    'review_count':review_count,\n",
    "    'rating':rating,\n",
    "    'price':price\n",
    "})\n",
    "    \n",
    "business_df.head()"
   ]
  }
 ],
 "metadata": {
  "kernelspec": {
   "display_name": "Python 3",
   "language": "python",
   "name": "python3"
  },
  "language_info": {
   "codemirror_mode": {
    "name": "ipython",
    "version": 3
   },
   "file_extension": ".py",
   "mimetype": "text/x-python",
   "name": "python",
   "nbconvert_exporter": "python",
   "pygments_lexer": "ipython3",
   "version": "3.8.8"
  }
 },
 "nbformat": 4,
 "nbformat_minor": 5
}
